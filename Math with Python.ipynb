{
  "nbformat": 4,
  "nbformat_minor": 0,
  "metadata": {
    "colab": {
      "name": "Untitled2.ipynb",
      "provenance": [],
      "authorship_tag": "ABX9TyN0Wjx7sKViBwM0w17czD2t",
      "include_colab_link": true
    },
    "kernelspec": {
      "name": "python3",
      "display_name": "Python 3"
    }
  },
  "cells": [
    {
      "cell_type": "markdown",
      "metadata": {
        "id": "view-in-github",
        "colab_type": "text"
      },
      "source": [
        "<a href=\"https://colab.research.google.com/github/stevensho11/BCS109/blob/master/Module4Sales.ipynb\" target=\"_parent\"><img src=\"https://colab.research.google.com/assets/colab-badge.svg\" alt=\"Open In Colab\"/></a>"
      ]
    },
    {
      "cell_type": "markdown",
      "metadata": {
        "id": "UfOIAdoO_3kD",
        "colab_type": "text"
      },
      "source": [
        "##**Software Company Discounts**##\n",
        "\n",
        "This code asks the user to enter the number of packages purchased from a software company. It will then display the amount of discount (if any) and the total amount of the purchase after discount."
      ]
    },
    {
      "cell_type": "code",
      "metadata": {
        "id": "HLKeXIX9_6Bc",
        "colab_type": "code",
        "colab": {}
      },
      "source": [
        "#initializing variables for number of packages, package pricec, and discount amount\n",
        "packagePrice = 99.00\n",
        "\n",
        "#while loop that prevents user from entering number less than or equal to 0\n",
        "numPackage = int(input('How many packages will you purchase? '))\n",
        "while numPackage <= 0:\n",
        "  numPackage = int(input('Please enter a number greater than 0 '))\n",
        "\n",
        "discount = 0.00\n",
        "\n",
        "#decision statements that determine discount price based on number of packages\n",
        "if numPackage >= 10 and numPackage <= 19:\n",
        "  discount = .10\n",
        "elif numPackage >= 20 and numPackage <= 49:\n",
        "  discount = .20\n",
        "elif numPackage >= 50 and numPackage <= 99:\n",
        "  discount = .30\n",
        "elif numPackage >= 100:\n",
        "  discount = .40\n",
        "\n",
        "#variable for final price calculation\n",
        "finalPrice = (numPackage*packagePrice) - (numPackage*packagePrice*discount) \n",
        "\n",
        "#print statements that tell user discount amount and total amount of purchase\n",
        "print(f'Because you bought ',numPackage, ' packages, your discount is: ', discount*100, ' percent.')\n",
        "print(f'Your total is: ${finalPrice:,.2f}.')"
      ],
      "execution_count": null,
      "outputs": []
    },
    {
      "cell_type": "markdown",
      "metadata": {
        "id": "GCcc6kgH_7pU",
        "colab_type": "text"
      },
      "source": [
        "##**Fast Freight Shipping Company Discounts**##\n",
        "\n",
        "This code will ask the user to enter the weight of a package, and displays the shipping charges based on the entered amount."
      ]
    },
    {
      "cell_type": "code",
      "metadata": {
        "id": "ire12Hjj_94M",
        "colab_type": "code",
        "colab": {}
      },
      "source": [
        "packageWeight = float(input('What is the weight of your package? '))\n",
        "\n",
        "#while loop that prevents user from entering number less than or equal to 0\n",
        "while packageWeight <= 0:\n",
        "  packageWeight = float(input('Please enter a number greater than 0 '))\n",
        "\n",
        "ratePP = 0.00\n",
        "\n",
        "if packageWeight <= 2:\n",
        "  ratePP = 1.50\n",
        "elif packageWeight > 2 and packageWeight <= 6:\n",
        "  ratePP = 3.00\n",
        "elif packageWeight > 6 and packageWeight <= 10:\n",
        "  ratePP = 4.00\n",
        "elif packageWeight > 10:\n",
        "  ratePP = 4.75\n",
        "\n",
        "finalCharges = ratePP*packageWeight\n",
        "\n",
        "print(f'Because your package is ', packageWeight, ' pounds, your shipping rate is: ', ratePP, ' dollars per pound.')\n",
        "print(f'Your total price is: ${finalCharges:,.2f}')"
      ],
      "execution_count": null,
      "outputs": []
    }
  ]
}
