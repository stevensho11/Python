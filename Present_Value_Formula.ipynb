{
  "nbformat": 4,
  "nbformat_minor": 0,
  "metadata": {
    "colab": {
      "name": "savings.ipynb",
      "provenance": [],
      "collapsed_sections": [],
      "authorship_tag": "ABX9TyP6QQkK4iHsPhSUg2ssQgb0",
      "include_colab_link": true
    },
    "kernelspec": {
      "name": "python3",
      "display_name": "Python 3"
    }
  },
  "cells": [
    {
      "cell_type": "markdown",
      "metadata": {
        "id": "view-in-github",
        "colab_type": "text"
      },
      "source": [
        "<a href=\"https://colab.research.google.com/github/stevensho11/BCS109/blob/master/savings.ipynb\" target=\"_parent\"><img src=\"https://colab.research.google.com/assets/colab-badge.svg\" alt=\"Open In Colab\"/></a>"
      ]
    },
    {
      "cell_type": "markdown",
      "metadata": {
        "id": "7v13E_K13MGU",
        "colab_type": "text"
      },
      "source": [
        "##**Present Value**## \n",
        "\n",
        "This code will return the present value of an investment using user-defined information and the following formula:\n",
        "\n",
        "PV = FV / (1 + r)<sup>years</sup>"
      ]
    },
    {
      "cell_type": "code",
      "metadata": {
        "id": "Q7vzO1TJ3Wvg",
        "colab_type": "code",
        "colab": {
          "base_uri": "https://localhost:8080/",
          "height": 85
        },
        "outputId": "66dcd173-d062-4f37-a02f-0880efca9f1e"
      },
      "source": [
        "#asking user for input\n",
        "future_value = float(input('Enter the desired future value: ' ))\n",
        "rate = float(input('Enter the desired rate: '))\n",
        "years = int(input('Enter the number of years the money will grow: '))\n",
        "\n",
        "#adjusting interest rate \n",
        "rate = rate / 100\n",
        "\n",
        "#performing calculation\n",
        "present_value = future_value / (1.0 + rate)**years\n",
        "\n",
        "#using formatted print to display the present value to two decimal places\n",
        "print(f'You will need to deposit this amount: ${present_value:,.2f}.')"
      ],
      "execution_count": 12,
      "outputs": [
        {
          "output_type": "stream",
          "text": [
            "Enter the desired future value: 5000\n",
            "Enter the desired rate: 5\n",
            "Enter the number of years the money will grow: 5\n",
            "You will need to deposit this amount: $3,917.63.\n"
          ],
          "name": "stdout"
        }
      ]
    },
    {
      "cell_type": "markdown",
      "metadata": {
        "id": "okaLeXEe4NH_",
        "colab_type": "text"
      },
      "source": [
        "##**Future Value**##\n",
        "\n",
        "This code will return the future value of an investment using user-defined information and the following formula:;\n",
        "\n",
        "A = P ( 1 + r/n )<sup>nt</sup>"
      ]
    },
    {
      "cell_type": "code",
      "metadata": {
        "id": "PRH70jbo4jzr",
        "colab_type": "code",
        "colab": {
          "base_uri": "https://localhost:8080/",
          "height": 102
        },
        "outputId": "fae24880-e118-4abb-9a6d-d9518eb92561"
      },
      "source": [
        "#asking user for input\n",
        "p = float(input('Enter the starting principal amount: '))\n",
        "r = float(input('Enter the annual interest rate: '))\n",
        "n = int(input('How many times per year is the interest compounded? '))\n",
        "t = int(input('How many years will the account earn interest? '))\n",
        "\n",
        "#adjusting interest rate\n",
        "r = r / 100\n",
        "\n",
        "#performing calculation\n",
        "a = p * (1+ float(r)/n ) ** (n*t)\n",
        "\n",
        "#using formatted print to display the future value to two decimal places\n",
        "print('At the end of', t, 'years you will have $', format(a, ',.2f'))\n"
      ],
      "execution_count": 24,
      "outputs": [
        {
          "output_type": "stream",
          "text": [
            "Enter the starting principal amount: 5000\n",
            "Enter the annual interest rate: 5\n",
            "How many times per year is the interest compounded? 5\n",
            "How many years will the account earn interest? 5\n",
            "At the end of 5 years you will have $ 6,412.16\n"
          ],
          "name": "stdout"
        }
      ]
    }
  ]
}
