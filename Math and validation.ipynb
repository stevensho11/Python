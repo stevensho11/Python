{
  "nbformat": 4,
  "nbformat_minor": 0,
  "metadata": {
    "colab": {
      "name": "hw5.ipynb",
      "provenance": [],
      "collapsed_sections": [],
      "authorship_tag": "ABX9TyO0SBnb39ODL0lTa+ybkzZb",
      "include_colab_link": true
    },
    "kernelspec": {
      "name": "python3",
      "display_name": "Python 3"
    }
  },
  "cells": [
    {
      "cell_type": "markdown",
      "metadata": {
        "id": "view-in-github",
        "colab_type": "text"
      },
      "source": [
        "<a href=\"https://colab.research.google.com/github/stevensho11/BCS109/blob/master/hw5.ipynb\" target=\"_parent\"><img src=\"https://colab.research.google.com/assets/colab-badge.svg\" alt=\"Open In Colab\"/></a>"
      ]
    },
    {
      "cell_type": "markdown",
      "metadata": {
        "id": "OtTac-0xxIw4"
      },
      "source": [
        "##**User Password**##\n",
        "\n",
        "This code will ask the user to enter a password that meets the following requirements:\n",
        "\n",
        "\n",
        "*   Is at least 8 characters long\n",
        "*   Has at least one uppercase letter\n",
        "*   Has at least one lowercase letter\n",
        "*   Has at least one number\n",
        "*   Has at least one special character"
      ]
    },
    {
      "cell_type": "code",
      "metadata": {
        "id": "jrC2xmz6nNvu",
        "outputId": "b31a60b7-219b-42ad-853c-f9e7f6e89f7b",
        "colab": {
          "base_uri": "https://localhost:8080/",
          "height": 153
        }
      },
      "source": [
        "#import regex (reg expressions) to check for special characters\n",
        "import re\n",
        "while True:\n",
        "  password = input(\"put in a potential password \")\n",
        "\n",
        "  counter = 0\n",
        "  upperCase  = lowerCase = hasNumber = hasSpecial = False\n",
        "\n",
        "  for letter in password:\n",
        "    counter = counter + 1\n",
        "    if letter.isupper():\n",
        "      upperCase = True\n",
        "    if letter.islower():\n",
        "      lowerCase = True\n",
        "    if letter.isnumeric():\n",
        "      hasNumber = True\n",
        "\n",
        "  if re.findall('[^A-Za-z0-9]', password):\n",
        "    hasSpecial = True\n",
        "\n",
        "  if counter >= 8 and upperCase is True and lowerCase is True and hasSpecial is True:\n",
        "    print(\"That is a valid password\")\n",
        "    break\n",
        "  elif counter < 8:\n",
        "    print(\"Password is too short\")\n",
        "  elif upperCase is False:\n",
        "    print(\"You need an uppercase letter\")\n",
        "  elif lowerCase is False:\n",
        "    print(\"You need a lowercase letter\")\n",
        "  elif hasSpecial is False:\n",
        "    print(\"You need a special character\")"
      ],
      "execution_count": 52,
      "outputs": [
        {
          "output_type": "stream",
          "text": [
            "put in a potential password joe\n",
            "Password is too short\n",
            "put in a potential password joe50%\n",
            "Password is too short\n",
            "put in a potential password joe505050505%\n",
            "You need an uppercase letter\n",
            "put in a potential password Joe50505050550%\n",
            "That is a valid password\n"
          ],
          "name": "stdout"
        }
      ]
    },
    {
      "cell_type": "markdown",
      "metadata": {
        "id": "VQKzZO3cyFb9"
      },
      "source": [
        "##**User Name and Age**##\n",
        "\n",
        "This code will ask the user for their name and age. It will verify that the input name and age consist of only letters and numbers respectively. It will also verify that age is between 1-100. The user has 3 chances to enter appropriate data before the program closes."
      ]
    },
    {
      "cell_type": "code",
      "metadata": {
        "id": "4OJiD5Ojykm_",
        "outputId": "eebe749c-45d8-4036-912c-ebb85e6463bd",
        "colab": {
          "base_uri": "https://localhost:8080/",
          "height": 68
        }
      },
      "source": [
        "counter = 0\n",
        "hasNumber = hasLetter = badAge = False\n",
        "\n",
        "while counter < 3:\n",
        "  name = input('What is your name?')\n",
        "  for letter in name:\n",
        "    if letter.isnumeric():\n",
        "      hasNumber = True\n",
        "\n",
        "  age = input('What is your age?')\n",
        "  for number in age:\n",
        "    if number.isalpha():\n",
        "      hasLetter = True\n",
        "  \n",
        "  if hasLetter is False:\n",
        "    if int(age) > 100 or int(age) < 1:\n",
        "      badAge = True\n",
        "\n",
        "  if hasLetter is False and hasNumber is False and badAge is False:\n",
        "    print('Acceptable')\n",
        "    break\n",
        "  else:\n",
        "    counter += 1\n",
        "    print('Unaccepable')\n",
        "\n",
        "\n",
        "\n",
        "  \n",
        "\n",
        "      \n",
        "\n",
        "\n"
      ],
      "execution_count": 51,
      "outputs": [
        {
          "output_type": "stream",
          "text": [
            "What is your name?joe\n",
            "What is your age?50\n",
            "Acceptable\n"
          ],
          "name": "stdout"
        }
      ]
    },
    {
      "cell_type": "markdown",
      "metadata": {
        "id": "y7bIudMXGqph"
      },
      "source": [
        "##**Outputting Numbers with 3**##\n",
        "\n",
        "This code will output all numbers from 1-1000 that have a 3 in them"
      ]
    },
    {
      "cell_type": "code",
      "metadata": {
        "id": "U5WksPzvHqqg",
        "outputId": "0e09c633-39c5-43c7-bfdb-5c307e67a1d3",
        "colab": {
          "base_uri": "https://localhost:8080/",
          "height": 54
        }
      },
      "source": [
        "for i in range (1, 1001):\n",
        "\tval = i\n",
        "\tcheck = 0\n",
        "\twhile val != 0:\n",
        "\t  check = val % 10\n",
        "\t  if (check == 3):\n",
        "\t\t  print(i, end = '|')\n",
        "\t\t  break\n",
        "\t  val = val // 10"
      ],
      "execution_count": 68,
      "outputs": [
        {
          "output_type": "stream",
          "text": [
            "3|13|23|30|31|32|33|34|35|36|37|38|39|43|53|63|73|83|93|103|113|123|130|131|132|133|134|135|136|137|138|139|143|153|163|173|183|193|203|213|223|230|231|232|233|234|235|236|237|238|239|243|253|263|273|283|293|300|301|302|303|304|305|306|307|308|309|310|311|312|313|314|315|316|317|318|319|320|321|322|323|324|325|326|327|328|329|330|331|332|333|334|335|336|337|338|339|340|341|342|343|344|345|346|347|348|349|350|351|352|353|354|355|356|357|358|359|360|361|362|363|364|365|366|367|368|369|370|371|372|373|374|375|376|377|378|379|380|381|382|383|384|385|386|387|388|389|390|391|392|393|394|395|396|397|398|399|403|413|423|430|431|432|433|434|435|436|437|438|439|443|453|463|473|483|493|503|513|523|530|531|532|533|534|535|536|537|538|539|543|553|563|573|583|593|603|613|623|630|631|632|633|634|635|636|637|638|639|643|653|663|673|683|693|703|713|723|730|731|732|733|734|735|736|737|738|739|743|753|763|773|783|793|803|813|823|830|831|832|833|834|835|836|837|838|839|843|853|863|873|883|893|903|913|923|930|931|932|933|934|935|936|937|938|939|943|953|963|973|983|993|"
          ],
          "name": "stdout"
        }
      ]
    },
    {
      "cell_type": "markdown",
      "metadata": {
        "id": "TMNUvZLmJAVu"
      },
      "source": [
        "##**Looping Even Numbers Backwards From 100**##\n",
        "\n",
        "This code will output all even numbers from 100 to 1"
      ]
    },
    {
      "cell_type": "code",
      "metadata": {
        "id": "E4zxneU-JJ7z",
        "outputId": "353743fd-4e2f-40f4-c56b-a040ad419179",
        "colab": {
          "base_uri": "https://localhost:8080/",
          "height": 34
        }
      },
      "source": [
        "counter = 100\n",
        "while counter >= 0:\n",
        "  print(counter, end = '|')\n",
        "  counter -= 2"
      ],
      "execution_count": 70,
      "outputs": [
        {
          "output_type": "stream",
          "text": [
            "100|98|96|94|92|90|88|86|84|82|80|78|76|74|72|70|68|66|64|62|60|58|56|54|52|50|48|46|44|42|40|38|36|34|32|30|28|26|24|22|20|18|16|14|12|10|8|6|4|2|0|"
          ],
          "name": "stdout"
        }
      ]
    },
    {
      "cell_type": "markdown",
      "metadata": {
        "id": "z-7XOXJWJmV2"
      },
      "source": [
        "##**Counting Primes**##\n",
        "\n",
        "This code will output all prime numbers between 100 and 1000"
      ]
    },
    {
      "cell_type": "code",
      "metadata": {
        "id": "_TL4QpXBKDy1",
        "outputId": "98e86264-3daa-4200-988f-c50babb7c9f7",
        "colab": {
          "base_uri": "https://localhost:8080/",
          "height": 54
        }
      },
      "source": [
        "for i in range(100, 1000):\n",
        "  for j in range(2, i):\n",
        "    if (i % j) == 0:\n",
        "      break\n",
        "  else:\n",
        "    print(i, end = '|')"
      ],
      "execution_count": 110,
      "outputs": [
        {
          "output_type": "stream",
          "text": [
            "101|103|107|109|113|127|131|137|139|149|151|157|163|167|173|179|181|191|193|197|199|211|223|227|229|233|239|241|251|257|263|269|271|277|281|283|293|307|311|313|317|331|337|347|349|353|359|367|373|379|383|389|397|401|409|419|421|431|433|439|443|449|457|461|463|467|479|487|491|499|503|509|521|523|541|547|557|563|569|571|577|587|593|599|601|607|613|617|619|631|641|643|647|653|659|661|673|677|683|691|701|709|719|727|733|739|743|751|757|761|769|773|787|797|809|811|821|823|827|829|839|853|857|859|863|877|881|883|887|907|911|919|929|937|941|947|953|967|971|977|983|991|997|"
          ],
          "name": "stdout"
        }
      ]
    }
  ]
}
